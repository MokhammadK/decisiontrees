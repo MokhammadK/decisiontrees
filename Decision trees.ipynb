{
 "cells": [
  {
   "cell_type": "code",
   "execution_count": 20,
   "id": "cd8f22c7",
   "metadata": {},
   "outputs": [
    {
     "name": "stdout",
     "output_type": "stream",
     "text": [
      "Точність класифікатора: 1.00\n",
      "Звіт про класифікацію:\n",
      "              precision    recall  f1-score   support\n",
      "\n",
      "      setosa       1.00      1.00      1.00        10\n",
      "  versicolor       1.00      1.00      1.00         9\n",
      "   virginica       1.00      1.00      1.00        11\n",
      "\n",
      "    accuracy                           1.00        30\n",
      "   macro avg       1.00      1.00      1.00        30\n",
      "weighted avg       1.00      1.00      1.00        30\n",
      "\n"
     ]
    },
    {
     "data": {
      "text/plain": [
       "'iris_decision_tree.pdf'"
      ]
     },
     "execution_count": 20,
     "metadata": {},
     "output_type": "execute_result"
    }
   ],
   "source": [
    "from sklearn import datasets\n",
    "from sklearn.model_selection import train_test_split\n",
    "from sklearn.tree import DecisionTreeClassifier\n",
    "from sklearn.metrics import accuracy_score, classification_report\n",
    "from sklearn.tree import export_graphviz\n",
    "import graphviz\n",
    "\n",
    "iris = datasets.load_iris()\n",
    "X = iris.data  # Ознаки\n",
    "y = iris.target  # Мітки\n",
    "\n",
    "X_train, X_test, y_train, y_test = train_test_split(X, y, test_size=0.2, random_state=42)\n",
    "\n",
    "clf = DecisionTreeClassifier(random_state=42)\n",
    "\n",
    "clf.fit(X_train, y_train)\n",
    "\n",
    "y_pred = clf.predict(X_test)\n",
    "\n",
    "accuracy = accuracy_score(y_test, y_pred)\n",
    "print(f\"Точність класифікатора: {accuracy:.2f}\")\n",
    "\n",
    "print(\"Звіт про класифікацію:\")\n",
    "print(classification_report(y_test, y_pred, target_names=iris.target_names))\n",
    "\n",
    "dot_data = export_graphviz(clf, out_file=None, \n",
    "                           feature_names=iris.feature_names,  \n",
    "                           class_names=iris.target_names,  \n",
    "                           filled=True, rounded=True,  \n",
    "                           special_characters=True)  \n",
    "graph = graphviz.Source(dot_data)\n",
    "graph.render(\"iris_decision_tree\")  # Збережемо дерево у файл\n",
    "graph.view()  # Відкриємо візуалізацію у графічному інтерфейсі"
   ]
  },
  {
   "cell_type": "code",
   "execution_count": null,
   "id": "25add2fd",
   "metadata": {},
   "outputs": [],
   "source": [
    "# Звіт показує, що для кожного класу точність, повнота та F1-міра дорівнюють 1.00, що означає, що класифікатор дуже добре працює на цьому наборі даних і майже не робить помилок у класифікації. Також, вся точність, повнота та F1-міра для всього набору даних дорівнюють 1.00, що підтверджує високу якість класифікатора.\n",
    "# модель має дуже добрі результати на тестовому наборі даних і здатна ефективно класифікувати іріси на три класи: setosa, versicolor і virginica."
   ]
  }
 ],
 "metadata": {
  "kernelspec": {
   "display_name": "Python 3 (ipykernel)",
   "language": "python",
   "name": "python3"
  },
  "language_info": {
   "codemirror_mode": {
    "name": "ipython",
    "version": 3
   },
   "file_extension": ".py",
   "mimetype": "text/x-python",
   "name": "python",
   "nbconvert_exporter": "python",
   "pygments_lexer": "ipython3",
   "version": "3.9.13"
  }
 },
 "nbformat": 4,
 "nbformat_minor": 5
}
